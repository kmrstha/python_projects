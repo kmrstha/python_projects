{
 "cells": [
  {
   "cell_type": "markdown",
   "id": "aa4caa68-1b75-4736-86b9-b41ab982c5a5",
   "metadata": {},
   "source": [
    "# Create Acronyms using Python"
   ]
  },
  {
   "cell_type": "code",
   "execution_count": 8,
   "id": "724cfc88-931f-4e54-a2ca-0f07cf613660",
   "metadata": {},
   "outputs": [
    {
     "name": "stdin",
     "output_type": "stream",
     "text": [
      "Enter a phrase:  chelsea football club\n"
     ]
    },
    {
     "name": "stdout",
     "output_type": "stream",
     "text": [
      " CFC\n"
     ]
    }
   ],
   "source": [
    "# taking input from the user\n",
    "user_input = input(\"Enter a phrase: \")\n",
    "\n",
    "# splitting the sentence using split() function\n",
    "text = user_input.split()\n",
    "\n",
    "# creating variable to store the acronym\n",
    "a = ' '\n",
    "\n",
    "# running for loop over the variable text\n",
    "# and storing the initial leter (index value of str[0])\n",
    "# and turning it into upper case using upper() function\n",
    "for i in text:\n",
    "    a = a+i[0].upper()\n",
    "\n",
    "# printing the ouput\n",
    "print (a)"
   ]
  },
  {
   "cell_type": "markdown",
   "id": "7b1c4d18-960a-4d73-8c1e-6df6f4db7916",
   "metadata": {},
   "source": [
    "## Alternative"
   ]
  },
  {
   "cell_type": "code",
   "execution_count": 46,
   "id": "4839fffd-8973-462f-b353-204b0759dac6",
   "metadata": {},
   "outputs": [
    {
     "name": "stdin",
     "output_type": "stream",
     "text": [
      "Enter a phrase:  hello 123\n"
     ]
    },
    {
     "name": "stdout",
     "output_type": "stream",
     "text": [
      "Input should contain only alphabetic characters and spaces. Please try again.\n"
     ]
    },
    {
     "name": "stdin",
     "output_type": "stream",
     "text": [
      "Enter a phrase:  chelsea football club\n"
     ]
    },
    {
     "name": "stdout",
     "output_type": "stream",
     "text": [
      "CFC\n"
     ]
    }
   ],
   "source": [
    "def get_valid_input(prompt):\n",
    "    while True:\n",
    "        user_input = input(prompt)\n",
    "        if all(char.isalpha() or char.isspace() for char in user_input):\n",
    "            return user_input\n",
    "        else:\n",
    "            print(\"Input should contain only alphabetic characters and spaces. Please try again.\")\n",
    "\n",
    "user_input = get_valid_input(\"Enter a phrase: \")\n",
    "text = user_input.split()\n",
    "a = ''\n",
    "for i in text:\n",
    "    a = a + i[0].upper()\n",
    "print(a)"
   ]
  },
  {
   "cell_type": "code",
   "execution_count": null,
   "id": "088ab180-f352-4f16-9c97-c70f2a850318",
   "metadata": {},
   "outputs": [],
   "source": []
  }
 ],
 "metadata": {
  "kernelspec": {
   "display_name": "Python 3 (ipykernel)",
   "language": "python",
   "name": "python3"
  },
  "language_info": {
   "codemirror_mode": {
    "name": "ipython",
    "version": 3
   },
   "file_extension": ".py",
   "mimetype": "text/x-python",
   "name": "python",
   "nbconvert_exporter": "python",
   "pygments_lexer": "ipython3",
   "version": "3.11.7"
  }
 },
 "nbformat": 4,
 "nbformat_minor": 5
}
