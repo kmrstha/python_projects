{
 "cells": [
  {
   "cell_type": "code",
   "execution_count": 38,
   "id": "1f5d44d9-f381-4ffe-928c-2d6ddf740a76",
   "metadata": {},
   "outputs": [
    {
     "name": "stdin",
     "output_type": "stream",
     "text": [
      "Rock, Paper or Scissors:  rock\n"
     ]
    },
    {
     "name": "stdout",
     "output_type": "stream",
     "text": [
      "Computer:  Scissors\n",
      "You win! Rock smashes Scissors\n"
     ]
    },
    {
     "name": "stdin",
     "output_type": "stream",
     "text": [
      "Rock, Paper or Scissors:  rock\n"
     ]
    },
    {
     "name": "stdout",
     "output_type": "stream",
     "text": [
      "Computer:  Paper\n",
      "You loose! Paper covers Rock\n"
     ]
    },
    {
     "name": "stdin",
     "output_type": "stream",
     "text": [
      "Rock, Paper or Scissors:  scissors\n"
     ]
    },
    {
     "name": "stdout",
     "output_type": "stream",
     "text": [
      "Computer:  Rock\n",
      "You loose! Rock smashes Scissors\n"
     ]
    },
    {
     "name": "stdin",
     "output_type": "stream",
     "text": [
      "Rock, Paper or Scissors:  paper\n"
     ]
    },
    {
     "name": "stdout",
     "output_type": "stream",
     "text": [
      "Computer:  Scissors\n",
      "You loose! Scissors cuts Paper\n"
     ]
    },
    {
     "name": "stdin",
     "output_type": "stream",
     "text": [
      "Rock, Paper or Scissors:  rock\n"
     ]
    },
    {
     "name": "stdout",
     "output_type": "stream",
     "text": [
      "Computer:  Rock\n",
      "Draw\n"
     ]
    },
    {
     "name": "stdin",
     "output_type": "stream",
     "text": [
      "Rock, Paper or Scissors:  rock\n"
     ]
    },
    {
     "name": "stdout",
     "output_type": "stream",
     "text": [
      "Computer:  Scissors\n",
      "You win! Rock smashes Scissors\n"
     ]
    },
    {
     "name": "stdin",
     "output_type": "stream",
     "text": [
      "Rock, Paper or Scissors:  rock\n"
     ]
    },
    {
     "name": "stdout",
     "output_type": "stream",
     "text": [
      "Computer:  Paper\n",
      "You loose! Paper covers Rock\n"
     ]
    },
    {
     "name": "stdin",
     "output_type": "stream",
     "text": [
      "Rock, Paper or Scissors:  scissors\n"
     ]
    },
    {
     "name": "stdout",
     "output_type": "stream",
     "text": [
      "Computer:  Scissors\n",
      "Draw\n"
     ]
    },
    {
     "name": "stdin",
     "output_type": "stream",
     "text": [
      "Rock, Paper or Scissors:  rock\n"
     ]
    },
    {
     "name": "stdout",
     "output_type": "stream",
     "text": [
      "Computer:  Rock\n",
      "Draw\n"
     ]
    },
    {
     "name": "stdin",
     "output_type": "stream",
     "text": [
      "Rock, Paper or Scissors:  rock\n"
     ]
    },
    {
     "name": "stdout",
     "output_type": "stream",
     "text": [
      "Computer:  Paper\n",
      "You loose! Paper covers Rock\n"
     ]
    },
    {
     "name": "stdin",
     "output_type": "stream",
     "text": [
      "Rock, Paper or Scissors:  end\n"
     ]
    },
    {
     "name": "stdout",
     "output_type": "stream",
     "text": [
      "Final Score: \n",
      "Computer:5\n",
      "Player:2\n"
     ]
    }
   ],
   "source": [
    "import random\n",
    "options = ['Rock', 'Paper', 'Scissors']\n",
    "user_score = 0\n",
    "computer_score = 0\n",
    "while True:\n",
    "    user_choice = input(\"Rock, Paper or Scissors: \").title()\n",
    "    computer = random.choice(options)\n",
    "    if user_choice == computer:\n",
    "        print('Computer: ',computer)\n",
    "        print(\"Draw\")\n",
    "    elif user_choice =='Rock':\n",
    "        if computer == 'Paper':\n",
    "            print('Computer: ',computer)\n",
    "            print('You loose!', computer, 'covers', user_choice)\n",
    "            computer_score += 1\n",
    "        else:\n",
    "            print('Computer: ',computer)\n",
    "            print('You win!', user_choice, 'smashes', computer)\n",
    "            user_score += 1\n",
    "    elif user_choice == 'Paper':\n",
    "        if computer == 'Scissors':\n",
    "            print('Computer: ',computer)\n",
    "            print('You loose!', computer, 'cuts', user_choice)\n",
    "            computer_score += 1\n",
    "        else:\n",
    "            print('Computer: ',computer)\n",
    "            print('You win!', user_choice, 'covers', computer)\n",
    "            user_score += 1\n",
    "    elif user_choice == 'Scissors':\n",
    "        if computer == 'Rock':\n",
    "            print('Computer: ',computer)\n",
    "            print('You loose!', computer, 'smashes', user_choice)\n",
    "            computer_score += 1\n",
    "        else:\n",
    "            print('Computer: ',computer)\n",
    "            print('You win!', user_choice, 'cuts', computer)\n",
    "            user_score += 1\n",
    "    elif user_choice == 'End':\n",
    "        print('Final Score: ')\n",
    "        print(f'Computer:{computer_score}')\n",
    "        print(f'Player:{user_score}')\n",
    "        break"
   ]
  },
  {
   "cell_type": "code",
   "execution_count": null,
   "id": "b64fde3b-518f-4e93-852f-9f14bc552127",
   "metadata": {},
   "outputs": [],
   "source": []
  }
 ],
 "metadata": {
  "kernelspec": {
   "display_name": "Python 3 (ipykernel)",
   "language": "python",
   "name": "python3"
  },
  "language_info": {
   "codemirror_mode": {
    "name": "ipython",
    "version": 3
   },
   "file_extension": ".py",
   "mimetype": "text/x-python",
   "name": "python",
   "nbconvert_exporter": "python",
   "pygments_lexer": "ipython3",
   "version": "3.11.7"
  }
 },
 "nbformat": 4,
 "nbformat_minor": 5
}
