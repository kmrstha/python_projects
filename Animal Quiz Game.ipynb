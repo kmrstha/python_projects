{
 "cells": [
  {
   "cell_type": "markdown",
   "id": "319cebf2-189f-4222-a940-6b30ec5f5cb4",
   "metadata": {},
   "source": [
    "The Quiz game asks the player questions about animals. They have three chances to answer each question. Each correct answer will score a point. At the end of the game, the program will reveal the player’s final score."
   ]
  },
  {
   "cell_type": "code",
   "execution_count": 24,
   "id": "e891f6c6-1c20-46a6-bb52-ee98b8a6e328",
   "metadata": {},
   "outputs": [
    {
     "name": "stdout",
     "output_type": "stream",
     "text": [
      "Guess the animal...\n"
     ]
    },
    {
     "name": "stdin",
     "output_type": "stream",
     "text": [
      "Which is the tallest animal in the world?  giraffe\n"
     ]
    },
    {
     "name": "stdout",
     "output_type": "stream",
     "text": [
      "Correct answer!\n"
     ]
    },
    {
     "name": "stdin",
     "output_type": "stream",
     "text": [
      "Mention one flightless bird  ostrich\n"
     ]
    },
    {
     "name": "stdout",
     "output_type": "stream",
     "text": [
      "Correct answer!\n"
     ]
    },
    {
     "name": "stdin",
     "output_type": "stream",
     "text": [
      "How many legs does an octopus have?  six\n"
     ]
    },
    {
     "name": "stdout",
     "output_type": "stream",
     "text": [
      "Sorry, incorrect answer. Try again.\n"
     ]
    },
    {
     "name": "stdin",
     "output_type": "stream",
     "text": [
      "Your guess:  seven\n"
     ]
    },
    {
     "name": "stdout",
     "output_type": "stream",
     "text": [
      "Sorry, incorrect answer. Try again.\n"
     ]
    },
    {
     "name": "stdin",
     "output_type": "stream",
     "text": [
      "Your guess:  eight\n"
     ]
    },
    {
     "name": "stdout",
     "output_type": "stream",
     "text": [
      "Correct answer!\n",
      "Your total score is: 3\n"
     ]
    }
   ],
   "source": [
    "def check_answer(guess, answer):\n",
    "    still_guessing = True\n",
    "    attempt = 0\n",
    "\n",
    "    while still_guessing and attempt < 3:\n",
    "        if guess.lower() == answer.lower():\n",
    "            print('Correct answer!')\n",
    "            return 1  # Correct answer, return score increment\n",
    "        else:\n",
    "            if attempt < 2:\n",
    "                print('Sorry, incorrect answer. Try again.')\n",
    "                guess = input('Your guess: ')\n",
    "            attempt += 1\n",
    "\n",
    "    if attempt == 3:\n",
    "        print('The correct answer is:', answer)\n",
    "    \n",
    "    return 0  # Incorrect after 3 attempts, return no score increment\n",
    "\n",
    "score = 0\n",
    "print(\"Guess the animal...\")\n",
    "\n",
    "question1 = input('Which is the tallest animal in the world? ')\n",
    "score += check_answer(question1, 'Giraffe')\n",
    "\n",
    "question2 = input('Mention one flightless bird ')\n",
    "score += check_answer(question2, 'Ostrich')\n",
    "\n",
    "question3 = input('How many legs does an octopus have? ')\n",
    "score += check_answer(question3, 'Eight')\n",
    "\n",
    "print('Your total score is:', score)"
   ]
  },
  {
   "cell_type": "code",
   "execution_count": null,
   "id": "dae675dc-3aab-48c0-9495-1cacf12103dc",
   "metadata": {},
   "outputs": [],
   "source": []
  }
 ],
 "metadata": {
  "kernelspec": {
   "display_name": "Python 3 (ipykernel)",
   "language": "python",
   "name": "python3"
  },
  "language_info": {
   "codemirror_mode": {
    "name": "ipython",
    "version": 3
   },
   "file_extension": ".py",
   "mimetype": "text/x-python",
   "name": "python",
   "nbconvert_exporter": "python",
   "pygments_lexer": "ipython3",
   "version": "3.11.7"
  }
 },
 "nbformat": 4,
 "nbformat_minor": 5
}
