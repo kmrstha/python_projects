{
 "cells": [
  {
   "cell_type": "code",
   "execution_count": 7,
   "id": "a0ab5380-12f6-47b1-82e1-9868b6936441",
   "metadata": {},
   "outputs": [
    {
     "name": "stdin",
     "output_type": "stream",
     "text": [
      "Enter your height in cm:  165\n",
      "Enter your weight in Kg:  65\n"
     ]
    },
    {
     "name": "stdout",
     "output_type": "stream",
     "text": [
      "Your body mass index is:  23.875114784205696\n",
      "Normal weight\n"
     ]
    }
   ],
   "source": [
    "height = float(input('Enter your height in cm: '))/100\n",
    "weight = float(input('Enter your weight in Kg: '))\n",
    "BMI = weight/(height*height)\n",
    "print('Your body mass index is: ', BMI)\n",
    "\n",
    "if BMI < 18: \n",
    "    print('Underweight')\n",
    "elif BMI < 25:\n",
    "    print('Normal weight')\n",
    "elif BMI < 30:\n",
    "    print('Overweight')\n",
    "else:\n",
    "    print ('Obesity')\n",
    "\n"
   ]
  },
  {
   "cell_type": "code",
   "execution_count": null,
   "id": "3bd08099-8d72-4ed2-b99b-16068339ff1b",
   "metadata": {},
   "outputs": [],
   "source": []
  }
 ],
 "metadata": {
  "kernelspec": {
   "display_name": "Python 3 (ipykernel)",
   "language": "python",
   "name": "python3"
  },
  "language_info": {
   "codemirror_mode": {
    "name": "ipython",
    "version": 3
   },
   "file_extension": ".py",
   "mimetype": "text/x-python",
   "name": "python",
   "nbconvert_exporter": "python",
   "pygments_lexer": "ipython3",
   "version": "3.11.7"
  }
 },
 "nbformat": 4,
 "nbformat_minor": 5
}
