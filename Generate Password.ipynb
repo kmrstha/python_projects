{
 "cells": [
  {
   "cell_type": "code",
   "execution_count": 11,
   "id": "76a737e9-6abb-4c8e-82c8-13933e212154",
   "metadata": {},
   "outputs": [
    {
     "name": "stdin",
     "output_type": "stream",
     "text": [
      "Enter the length of the password 7\n"
     ]
    },
    {
     "name": "stdout",
     "output_type": "stream",
     "text": [
      "chjx%s^\n"
     ]
    }
   ],
   "source": [
    "import random\n",
    "text = 'abcdefghijklmnopqrstuvwxyz0123456789!@#$%^&*()?'\n",
    "password_length = int(input('Enter the length of the password'))\n",
    "password = ''.join(random.sample(text, password_length))\n",
    "print(password)"
   ]
  },
  {
   "cell_type": "code",
   "execution_count": null,
   "id": "1c447b3e-5218-4b3b-a33a-7d43bffcc998",
   "metadata": {},
   "outputs": [],
   "source": []
  }
 ],
 "metadata": {
  "kernelspec": {
   "display_name": "Python 3 (ipykernel)",
   "language": "python",
   "name": "python3"
  },
  "language_info": {
   "codemirror_mode": {
    "name": "ipython",
    "version": 3
   },
   "file_extension": ".py",
   "mimetype": "text/x-python",
   "name": "python",
   "nbconvert_exporter": "python",
   "pygments_lexer": "ipython3",
   "version": "3.11.7"
  }
 },
 "nbformat": 4,
 "nbformat_minor": 5
}
