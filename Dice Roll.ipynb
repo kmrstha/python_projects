{
 "cells": [
  {
   "cell_type": "code",
   "execution_count": 13,
   "id": "6f1e3928-7be4-4a2c-a2ed-86554e58cd8b",
   "metadata": {},
   "outputs": [
    {
     "name": "stdout",
     "output_type": "stream",
     "text": [
      "Rolling the Dice...\n",
      "The value is:\n",
      "2\n"
     ]
    },
    {
     "name": "stdin",
     "output_type": "stream",
     "text": [
      "Do you want to roll the dice again? y\n"
     ]
    },
    {
     "name": "stdout",
     "output_type": "stream",
     "text": [
      "Rolling the Dice...\n",
      "The value is:\n",
      "6\n"
     ]
    },
    {
     "name": "stdin",
     "output_type": "stream",
     "text": [
      "Do you want to roll the dice again? y\n"
     ]
    },
    {
     "name": "stdout",
     "output_type": "stream",
     "text": [
      "Rolling the Dice...\n",
      "The value is:\n",
      "3\n"
     ]
    },
    {
     "name": "stdin",
     "output_type": "stream",
     "text": [
      "Do you want to roll the dice again? y\n"
     ]
    },
    {
     "name": "stdout",
     "output_type": "stream",
     "text": [
      "Rolling the Dice...\n",
      "The value is:\n",
      "4\n"
     ]
    },
    {
     "name": "stdin",
     "output_type": "stream",
     "text": [
      "Do you want to roll the dice again? n\n"
     ]
    }
   ],
   "source": [
    "import random\n",
    "\n",
    "# range of value of a dice\n",
    "min_val = 1\n",
    "max_val = 6\n",
    "\n",
    "# To start the loop\n",
    "roll_again = 'Yes'\n",
    "\n",
    "while roll_again == 'Yes' or roll_again == 'Y':\n",
    "    print('Rolling the Dice...')\n",
    "    print('The value is:')\n",
    "    print(random.randint(min_val, max_val))\n",
    "    roll_again = input('Do you want to roll the dice again?').title()"
   ]
  },
  {
   "cell_type": "code",
   "execution_count": null,
   "id": "a00935a8-ca7c-43cb-b4d5-11a581a2d69d",
   "metadata": {},
   "outputs": [],
   "source": []
  }
 ],
 "metadata": {
  "kernelspec": {
   "display_name": "Python 3 (ipykernel)",
   "language": "python",
   "name": "python3"
  },
  "language_info": {
   "codemirror_mode": {
    "name": "ipython",
    "version": 3
   },
   "file_extension": ".py",
   "mimetype": "text/x-python",
   "name": "python",
   "nbconvert_exporter": "python",
   "pygments_lexer": "ipython3",
   "version": "3.11.7"
  }
 },
 "nbformat": 4,
 "nbformat_minor": 5
}
