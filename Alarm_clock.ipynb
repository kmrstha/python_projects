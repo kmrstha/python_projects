{
 "cells": [
  {
   "cell_type": "markdown",
   "id": "bbc9f62b-545b-4693-8d1c-1ed8e541e976",
   "metadata": {},
   "source": [
    "## Alarm Clock"
   ]
  },
  {
   "cell_type": "code",
   "execution_count": 2,
   "id": "1bdeef7c-4e4b-4fc9-bae1-1801ff44cb6e",
   "metadata": {},
   "outputs": [
    {
     "name": "stdout",
     "output_type": "stream",
     "text": [
      "pygame 2.6.0 (SDL 2.28.4, Python 3.11.7)\n",
      "Hello from the pygame community. https://www.pygame.org/contribute.html\n"
     ]
    },
    {
     "name": "stdin",
     "output_type": "stream",
     "text": [
      "Enter the time of alarm to be set (HH:MM:SS AM/PM):\n",
      " 10:21:00 am\n"
     ]
    },
    {
     "name": "stdout",
     "output_type": "stream",
     "text": [
      "Setting up alarm...\n",
      "Wake Up!\n"
     ]
    }
   ],
   "source": [
    "from datetime import datetime\n",
    "import pygame\n",
    "\n",
    "# Initialize pygame mixer\n",
    "pygame.mixer.init()\n",
    "\n",
    "# Load the sound file\n",
    "alarm_sound = 'audio.mp3'\n",
    "pygame.mixer.music.load(alarm_sound)\n",
    "\n",
    "# Get alarm time from user input\n",
    "alarm_time = input(\"Enter the time of alarm to be set (HH:MM:SS AM/PM):\\n\")\n",
    "\n",
    "# Extract hours, minutes, seconds, and period from the input\n",
    "alarm_hour = alarm_time[0:2]  # First two characters for the hour\n",
    "alarm_minute = alarm_time[3:5]  # Characters 3 and 4 for the minute\n",
    "alarm_seconds = alarm_time[6:8]  # Characters 6 and 7 for the second\n",
    "alarm_period = alarm_time[9:11].upper()  # Characters 9 and 10 for the period (AM/PM)\n",
    "\n",
    "print(\"Setting up alarm...\")\n",
    "\n",
    "# Infinite loop to check the current time against the alarm time\n",
    "while True:\n",
    "    now = datetime.now()  # Get the current date and time\n",
    "    current_hour = now.strftime(\"%I\")  # Get current hour in 12-hour format\n",
    "    current_minute = now.strftime(\"%M\")  # Get current minute\n",
    "    current_seconds = now.strftime(\"%S\")  # Get current seconds\n",
    "    current_period = now.strftime(\"%p\")  # Get current period (AM/PM)\n",
    "\n",
    "    # Check if current time matches the alarm time\n",
    "    if (alarm_period == current_period and \n",
    "        alarm_hour == current_hour and \n",
    "        alarm_minute == current_minute and \n",
    "        alarm_seconds == current_seconds):\n",
    "        \n",
    "        print(\"Wake Up!\")  # Print wake-up message\n",
    "        pygame.mixer.music.play()  # Play the alarm sound\n",
    "        break  # Exit the loop\n"
   ]
  },
  {
   "cell_type": "code",
   "execution_count": 14,
   "id": "ee741b23-35dc-4d8d-899c-c5fec7cf0682",
   "metadata": {},
   "outputs": [
    {
     "name": "stdout",
     "output_type": "stream",
     "text": [
      "AM\n"
     ]
    }
   ],
   "source": [
    "print(current_period)"
   ]
  },
  {
   "cell_type": "code",
   "execution_count": 16,
   "id": "0f609adf-9ab0-4aa9-8689-96328aa771bb",
   "metadata": {},
   "outputs": [
    {
     "name": "stdout",
     "output_type": "stream",
     "text": [
      "00\n"
     ]
    }
   ],
   "source": [
    "print(current_seconds)"
   ]
  },
  {
   "cell_type": "code",
   "execution_count": 18,
   "id": "2e7fcd0f-51d2-460f-b2d2-099a8f3b10b8",
   "metadata": {},
   "outputs": [
    {
     "name": "stdout",
     "output_type": "stream",
     "text": [
      "2\n"
     ]
    }
   ],
   "source": [
    "print(alarm_time[3])"
   ]
  },
  {
   "cell_type": "markdown",
   "id": "7763e275-ea1b-4782-aaa7-3d3537b592af",
   "metadata": {},
   "source": [
    "## Alternative"
   ]
  },
  {
   "cell_type": "code",
   "execution_count": 27,
   "id": "60be29a1-7857-43e9-bc26-de52f3253045",
   "metadata": {},
   "outputs": [
    {
     "name": "stdout",
     "output_type": "stream",
     "text": [
      "Setting up alarm...\n"
     ]
    },
    {
     "name": "stdin",
     "output_type": "stream",
     "text": [
      "Enter the time of alarm to be set (HH:MM:SS AM/PM):\n",
      " 10:48:50 am\n"
     ]
    },
    {
     "name": "stdout",
     "output_type": "stream",
     "text": [
      "Wake Up!\n"
     ]
    }
   ],
   "source": [
    "from datetime import datetime\n",
    "from playsound import playsound\n",
    "\n",
    "# Initialize pygame mixer\n",
    "pygame.mixer.init()\n",
    "\n",
    "# Load the sound file\n",
    "alarm_sound = 'audio.mp3'\n",
    "pygame.mixer.music.load(alarm_sound)\n",
    "\n",
    "def get_alarm_time():\n",
    "    while True:\n",
    "        try:\n",
    "            alarm_time = input(\"Enter the time of alarm to be set (HH:MM:SS AM/PM):\\n\")\n",
    "            # Validate input format\n",
    "            alarm_datetime = datetime.strptime(alarm_time, \"%I:%M:%S %p\")\n",
    "            return alarm_datetime\n",
    "        except ValueError:\n",
    "            print(\"Invalid format. Please enter the time in the format HH:MM:SS AM/PM.\")\n",
    "\n",
    "def main():\n",
    "    print(\"Setting up alarm...\")\n",
    "    \n",
    "    # Get and validate the alarm time\n",
    "    alarm_datetime = get_alarm_time()\n",
    "    \n",
    "    # Extract alarm hour, minute, second, and period\n",
    "    alarm_hour = alarm_datetime.hour % 12  # Convert to 12-hour format\n",
    "    alarm_minute = alarm_datetime.minute\n",
    "    alarm_seconds = alarm_datetime.second\n",
    "    alarm_period = \"AM\" if alarm_datetime.hour < 12 else \"PM\"\n",
    "\n",
    "    while True:\n",
    "        now = datetime.now()\n",
    "        current_hour = now.hour % 12  # Convert to 12-hour format\n",
    "        current_minute = now.minute\n",
    "        current_seconds = now.second\n",
    "        current_period = \"AM\" if now.hour < 12 else \"PM\"\n",
    "\n",
    "        # Check if current time matches the alarm time\n",
    "        if (alarm_period == current_period and \n",
    "            alarm_hour == current_hour and \n",
    "            alarm_minute == current_minute and \n",
    "            alarm_seconds == current_seconds):\n",
    "            \n",
    "            print(\"Wake Up!\")\n",
    "            pygame.mixer.music.play()\n",
    "            break\n",
    "\n",
    "if __name__ == \"__main__\":\n",
    "    main()\n"
   ]
  },
  {
   "cell_type": "code",
   "execution_count": null,
   "id": "95e2d1b0-ea0a-44c1-a78c-e8329b75ff9c",
   "metadata": {},
   "outputs": [],
   "source": []
  }
 ],
 "metadata": {
  "kernelspec": {
   "display_name": "Python 3 (ipykernel)",
   "language": "python",
   "name": "python3"
  },
  "language_info": {
   "codemirror_mode": {
    "name": "ipython",
    "version": 3
   },
   "file_extension": ".py",
   "mimetype": "text/x-python",
   "name": "python",
   "nbconvert_exporter": "python",
   "pygments_lexer": "ipython3",
   "version": "3.11.7"
  }
 },
 "nbformat": 4,
 "nbformat_minor": 5
}
