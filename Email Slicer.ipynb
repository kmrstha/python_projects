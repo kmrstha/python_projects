{
 "cells": [
  {
   "cell_type": "code",
   "execution_count": 12,
   "id": "7d74190f-cf62-40a0-852e-634c12b99ae9",
   "metadata": {},
   "outputs": [
    {
     "name": "stdin",
     "output_type": "stream",
     "text": [
      "Please enter your e-mail id:  kmrstha9@gmail.com\n"
     ]
    },
    {
     "name": "stdout",
     "output_type": "stream",
     "text": [
      "The username is kmrstha9 and the domain is gmail.com\n"
     ]
    }
   ],
   "source": [
    "user_input = input(\"Please enter your e-mail id: \").strip()\n",
    "username = user_input[:user_input.index('@')]\n",
    "domain = user_input[user_input.index('@')+1:]\n",
    "print(\"The username is {} and the domain is {}\".format(username,domain))"
   ]
  },
  {
   "cell_type": "markdown",
   "id": "01f5ad78-f7e6-4816-86e8-cf5d95833e05",
   "metadata": {},
   "source": [
    "## Finding Error"
   ]
  },
  {
   "cell_type": "code",
   "execution_count": 15,
   "id": "692c7956-d21e-482a-ba27-25d42fd0899e",
   "metadata": {},
   "outputs": [
    {
     "name": "stdin",
     "output_type": "stream",
     "text": [
      "Please enter your e-mail id:  123\n"
     ]
    },
    {
     "ename": "ValueError",
     "evalue": "substring not found",
     "output_type": "error",
     "traceback": [
      "\u001b[1;31m---------------------------------------------------------------------------\u001b[0m",
      "\u001b[1;31mValueError\u001b[0m                                Traceback (most recent call last)",
      "Cell \u001b[1;32mIn[15], line 2\u001b[0m\n\u001b[0;32m      1\u001b[0m user_input \u001b[38;5;241m=\u001b[39m \u001b[38;5;28minput\u001b[39m(\u001b[38;5;124m\"\u001b[39m\u001b[38;5;124mPlease enter your e-mail id: \u001b[39m\u001b[38;5;124m\"\u001b[39m)\u001b[38;5;241m.\u001b[39mstrip()\n\u001b[1;32m----> 2\u001b[0m username \u001b[38;5;241m=\u001b[39m user_input[:user_input\u001b[38;5;241m.\u001b[39mindex(\u001b[38;5;124m'\u001b[39m\u001b[38;5;124m@\u001b[39m\u001b[38;5;124m'\u001b[39m)]\n\u001b[0;32m      3\u001b[0m domain \u001b[38;5;241m=\u001b[39m user_input[user_input\u001b[38;5;241m.\u001b[39mindex(\u001b[38;5;124m'\u001b[39m\u001b[38;5;124m@\u001b[39m\u001b[38;5;124m'\u001b[39m)\u001b[38;5;241m+\u001b[39m\u001b[38;5;241m1\u001b[39m:]\n\u001b[0;32m      4\u001b[0m \u001b[38;5;28mprint\u001b[39m(\u001b[38;5;124m\"\u001b[39m\u001b[38;5;124mThe username is \u001b[39m\u001b[38;5;132;01m{}\u001b[39;00m\u001b[38;5;124m and the domain is \u001b[39m\u001b[38;5;132;01m{}\u001b[39;00m\u001b[38;5;124m\"\u001b[39m\u001b[38;5;241m.\u001b[39mformat(username,domain))\n",
      "\u001b[1;31mValueError\u001b[0m: substring not found"
     ]
    }
   ],
   "source": [
    "user_input = input(\"Please enter your e-mail id: \").strip()\n",
    "username = user_input[:user_input.index('@')]\n",
    "domain = user_input[user_input.index('@')+1:]\n",
    "print(\"The username is {} and the domain is {}\".format(username,domain))"
   ]
  },
  {
   "cell_type": "markdown",
   "id": "99320806-3e91-45da-b520-8dcd72f50ca2",
   "metadata": {},
   "source": [
    "## Exception Handling"
   ]
  },
  {
   "cell_type": "code",
   "execution_count": 25,
   "id": "a3b84b5e-0327-424d-93e0-34d4476bd885",
   "metadata": {},
   "outputs": [
    {
     "name": "stdin",
     "output_type": "stream",
     "text": [
      "Please enter your e-mail id:  123avb\n"
     ]
    },
    {
     "name": "stdout",
     "output_type": "stream",
     "text": [
      "Please enter in a correct format\n"
     ]
    },
    {
     "name": "stdin",
     "output_type": "stream",
     "text": [
      "Please enter your e-mail id:  kmrstha9@gmail.com\n"
     ]
    },
    {
     "name": "stdout",
     "output_type": "stream",
     "text": [
      "The username is kmrstha9 and the domain is gmail.com\n"
     ]
    }
   ],
   "source": [
    "while True:\n",
    "    try:\n",
    "        user_input = input(\"Please enter your e-mail id: \")\n",
    "        username = user_input[:user_input.index('@')]\n",
    "        domain = user_input[user_input.index('@')+1:]\n",
    "        print(\"The username is {} and the domain is {}\".format(username,domain))\n",
    "        break\n",
    "        \n",
    "    except ValueError:\n",
    "        print(\"Please enter in a correct format\")\n",
    "    except Exception as ex:\n",
    "        print(ex)"
   ]
  },
  {
   "cell_type": "code",
   "execution_count": null,
   "id": "c838d0f8-cae1-409a-8393-c70c5d0d2ed7",
   "metadata": {},
   "outputs": [],
   "source": []
  }
 ],
 "metadata": {
  "kernelspec": {
   "display_name": "Python 3 (ipykernel)",
   "language": "python",
   "name": "python3"
  },
  "language_info": {
   "codemirror_mode": {
    "name": "ipython",
    "version": 3
   },
   "file_extension": ".py",
   "mimetype": "text/x-python",
   "name": "python",
   "nbconvert_exporter": "python",
   "pygments_lexer": "ipython3",
   "version": "3.11.7"
  }
 },
 "nbformat": 4,
 "nbformat_minor": 5
}
